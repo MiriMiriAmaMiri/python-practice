{
  "nbformat": 4,
  "nbformat_minor": 0,
  "metadata": {
    "colab": {
      "name": "python_practice.ipynb",
      "provenance": [],
      "collapsed_sections": [],
      "toc_visible": true,
      "include_colab_link": true
    },
    "kernelspec": {
      "name": "python3",
      "display_name": "Python 3"
    },
    "language_info": {
      "name": "python"
    }
  },
  "cells": [
    {
      "cell_type": "markdown",
      "metadata": {
        "id": "view-in-github",
        "colab_type": "text"
      },
      "source": [
        "<a href=\"https://colab.research.google.com/github/MiriMiriAmaMiri/python-practice/blob/main/python_practice.ipynb\" target=\"_parent\"><img src=\"https://colab.research.google.com/assets/colab-badge.svg\" alt=\"Open In Colab\"/></a>"
      ]
    },
    {
      "cell_type": "markdown",
      "source": [
        "# Python Practice"
      ],
      "metadata": {
        "id": "rFBoI5WhIP9Q"
      }
    },
    {
      "cell_type": "markdown",
      "source": [
        "## input 함수와 print 함수"
      ],
      "metadata": {
        "id": "CwcJ8r6XL3QW"
      }
    },
    {
      "cell_type": "code",
      "execution_count": null,
      "metadata": {
        "id": "2m9FbvUoINBg",
        "colab": {
          "base_uri": "https://localhost:8080/"
        },
        "outputId": "41af1e36-9549-46cc-86c8-f4fa840c4845"
      },
      "outputs": [
        {
          "output_type": "stream",
          "name": "stdout",
          "text": [
            "안녕하세요? 오늘 기분은 어떤가요?피곤해요\n",
            "피곤해요\n",
            "오늘 기분이 피곤해요 라고 답했어요.\n"
          ]
        }
      ],
      "source": [
        "# input 함수와 print 함수\n",
        "\n",
        "example = input(\"안녕하세요? 오늘 기분은 어떤가요?\")\n",
        "# exmaple 출력\n",
        "print(example)\n",
        "# f-string을 사용한 출력\n",
        "print(f\"오늘 기분이 {example} 라고 답했어요.\")\n"
      ]
    },
    {
      "cell_type": "code",
      "source": [
        "print(f\"오늘 기분이 {example} 라고 답했어요.\")"
      ],
      "metadata": {
        "colab": {
          "base_uri": "https://localhost:8080/"
        },
        "id": "OKBAQALdWj-Y",
        "outputId": "4a5ada57-db01-40e0-a72b-102c2e5e0d4e"
      },
      "execution_count": null,
      "outputs": [
        {
          "output_type": "stream",
          "name": "stdout",
          "text": [
            "오늘 기분이 피곤해요 라고 답했어요.\n"
          ]
        }
      ]
    },
    {
      "cell_type": "markdown",
      "source": [
        "## 문자열 자료형"
      ],
      "metadata": {
        "id": "scvQU6KpMAQq"
      }
    },
    {
      "cell_type": "code",
      "source": [
        "# sample code 작성하기\n",
        "str1 = \"sookmyung\"\n",
        "str2 = 'sookmyung'\n",
        "print(str1[0])\n",
        "print(str2[0])\n",
        "print(str1[0:4])\n",
        "print(str2[0:4])\n",
        "print(str1[1:4])\n"
      ],
      "metadata": {
        "id": "YdhlDXoJKk3P",
        "colab": {
          "base_uri": "https://localhost:8080/"
        },
        "outputId": "57a54bcf-f72f-498f-c350-8bc91ff58fee"
      },
      "execution_count": null,
      "outputs": [
        {
          "output_type": "stream",
          "name": "stdout",
          "text": [
            "s\n",
            "s\n",
            "sook\n",
            "sook\n",
            "ook\n"
          ]
        }
      ]
    },
    {
      "cell_type": "markdown",
      "source": [
        "## 리스트 자료형"
      ],
      "metadata": {
        "id": "Srb_7e00MBCK"
      }
    },
    {
      "cell_type": "code",
      "source": [
        "# sample code 작성하기\n",
        "my_list = [1, 2, 3, 'hi!', 4]\n",
        "print(my_list[3])\n",
        "print(my_list[0:3])\n",
        "print(my_list[1:3])\n",
        "print(my_list[0:4])"
      ],
      "metadata": {
        "id": "QysPX7v0MBhK",
        "colab": {
          "base_uri": "https://localhost:8080/"
        },
        "outputId": "1423a92d-d60c-4649-b508-4a3bbf8c4eea"
      },
      "execution_count": null,
      "outputs": [
        {
          "output_type": "stream",
          "name": "stdout",
          "text": [
            "hi!\n",
            "[1, 2, 3]\n",
            "[2, 3]\n",
            "[1, 2, 3, 'hi!']\n"
          ]
        }
      ]
    },
    {
      "cell_type": "markdown",
      "source": [
        "## 튜플 자료형"
      ],
      "metadata": {
        "id": "RBzDKWlSMC3P"
      }
    },
    {
      "cell_type": "code",
      "source": [
        "# sample code 작성하기\n",
        "my_tuple = (1, 2, 'a', 'b', '1004', 1004)\n",
        "print(my_tuple[3])\n",
        "print(my_tuple[1:])\n",
        "print(my_tuple[4])\n",
        "print(my_tuple[5])\n",
        "print(type(my_tuple[4]))\n",
        "print(type(my_tuple[5]))"
      ],
      "metadata": {
        "id": "AalkYwrJMGJZ",
        "colab": {
          "base_uri": "https://localhost:8080/"
        },
        "outputId": "e34be6ba-565c-4055-bfb8-a4eefe2711e8"
      },
      "execution_count": null,
      "outputs": [
        {
          "output_type": "stream",
          "name": "stdout",
          "text": [
            "b\n",
            "(2, 'a', 'b', '1004', 1004)\n",
            "1004\n",
            "1004\n",
            "<class 'str'>\n",
            "<class 'int'>\n"
          ]
        }
      ]
    },
    {
      "cell_type": "markdown",
      "source": [
        "## 딕셔너리 자료형"
      ],
      "metadata": {
        "id": "454XHQQ8MGso"
      }
    },
    {
      "cell_type": "code",
      "source": [
        "# sample code 작성하기\n",
        "my_dict = {'apple':500, 'banana':100, 'cat':7000, 'dog':7100}\n",
        "print(my_dict['apple'])\n",
        "print(my_dict['cat'])"
      ],
      "metadata": {
        "id": "rmEeXjiNObBf",
        "colab": {
          "base_uri": "https://localhost:8080/"
        },
        "outputId": "1d176222-a6d7-44ee-dada-0dfcacd502f0"
      },
      "execution_count": null,
      "outputs": [
        {
          "output_type": "stream",
          "name": "stdout",
          "text": [
            "500\n",
            "7000\n"
          ]
        }
      ]
    },
    {
      "cell_type": "markdown",
      "source": [
        "# 미션 1\n",
        "#### 이름과 태어난 연도를 입력받아 나이와 함께 인사하는 코드 작성하기\n",
        "\n",
        "* 사용자에게 총 2번의 입력을 받아 각각 서로 다른 변수에 저장해주세요. <br>\n",
        "이름 (name), 태어난 해 (born)\n",
        "\n",
        "* 이 변수 2개를 모두 활용해 나이(age)를 계산한 다음, 인사를 하는 프로그램을 작성해주세요. <br>\n",
        "(예) 재석님, 안녕하세요! 올해 51살이 되셨군요?"
      ],
      "metadata": {
        "id": "AqwAnU0WOggx"
      }
    },
    {
      "cell_type": "code",
      "source": [
        "print(\"=\" * 50)\n",
        "\n",
        "# 각 값을 입력 받기\n",
        "name = input(\"당신의 이름을 입력하세요. \")\n",
        "born = input(\"당신은 몇 년에 태어나셨나요? \")\n",
        "print(type(born))\n",
        "born = int(born)\n",
        "print(type(born))\n",
        "\n",
        "# 나이 계산하는 식 작성하기\n",
        "# age1 = 2022 - born\n",
        "age = 2022 - born + 1\n",
        "\n",
        "print(\"=\" * 50)\n",
        "\n",
        "# f-string을 사용해 출력하기\n",
        "print(f\"{name}님, 안녕하세요! 올해 우리 나이로는 {age}살이 되셨군요.\")\n",
        "#print(f\"우리 나이로는 {age2}가 되셨군요.\")"
      ],
      "metadata": {
        "id": "epyu09CtOsLn",
        "colab": {
          "base_uri": "https://localhost:8080/"
        },
        "outputId": "ed5aa72a-cdc7-49f9-b63a-812e6499b8f2"
      },
      "execution_count": null,
      "outputs": [
        {
          "output_type": "stream",
          "name": "stdout",
          "text": [
            "==================================================\n",
            "당신의 이름을 입력하세요. 서보밀\n",
            "당신은 몇 년에 태어나셨나요? 1971\n",
            "<class 'str'>\n",
            "<class 'int'>\n",
            "==================================================\n",
            "서보밀님, 안녕하세요! 올해 우리 나이로는 52살이 되셨군요.\n"
          ]
        }
      ]
    },
    {
      "cell_type": "markdown",
      "source": [
        "## while문"
      ],
      "metadata": {
        "id": "HgoDRNvpThAL"
      }
    },
    {
      "cell_type": "code",
      "source": [
        "# sample code 작성하기\n",
        "\n",
        "num = 0\n",
        "while num < 5:\n",
        "  num = num + 1\n",
        "  print(\"Hello!\")\n",
        "print(\"End\")"
      ],
      "metadata": {
        "id": "TFPpx725OxTC",
        "colab": {
          "base_uri": "https://localhost:8080/"
        },
        "outputId": "471ac1bd-c50c-466f-ab37-fc286da47ff1"
      },
      "execution_count": null,
      "outputs": [
        {
          "output_type": "stream",
          "name": "stdout",
          "text": [
            "Hello!\n",
            "Hello!\n",
            "Hello!\n",
            "Hello!\n",
            "Hello!\n",
            "End\n"
          ]
        }
      ]
    },
    {
      "cell_type": "markdown",
      "source": [
        "## for문"
      ],
      "metadata": {
        "id": "doQkOs0aTlXB"
      }
    },
    {
      "cell_type": "code",
      "source": [
        "# sample code 작성하기\n",
        "\n",
        "numbers = ['one', 'tow', 'three']\n",
        "for number in numbers:\n",
        "  print(number)\n",
        "\n",
        "print()\n",
        "\n",
        "for i in range(10):\n",
        "  print(f\"{i}: Hello!\")"
      ],
      "metadata": {
        "id": "_5nS-IyaTlKY",
        "colab": {
          "base_uri": "https://localhost:8080/"
        },
        "outputId": "cf9448c7-adda-41aa-f778-30891b06e4c6"
      },
      "execution_count": null,
      "outputs": [
        {
          "output_type": "stream",
          "name": "stdout",
          "text": [
            "one\n",
            "tow\n",
            "three\n",
            "\n",
            "0: Hello!\n",
            "1: Hello!\n",
            "2: Hello!\n",
            "3: Hello!\n",
            "4: Hello!\n",
            "5: Hello!\n",
            "6: Hello!\n",
            "7: Hello!\n",
            "8: Hello!\n",
            "9: Hello!\n"
          ]
        }
      ]
    },
    {
      "cell_type": "markdown",
      "source": [
        "## if문"
      ],
      "metadata": {
        "id": "u-2-BBE_Tpmw"
      }
    },
    {
      "cell_type": "code",
      "source": [
        "# sample code 작성하기\n",
        "\n",
        "password = \"sookmyung123\"\n",
        "my_input = input(\"PASSWORD: \")\n",
        "if password == my_input:\n",
        "  print(\"LOGIN\")\n",
        "else:\n",
        "  print(\"FAIL\")"
      ],
      "metadata": {
        "id": "15Gww_3OTpUA",
        "colab": {
          "base_uri": "https://localhost:8080/"
        },
        "outputId": "2facecfb-fa5b-43f1-beb6-c7624b12c1f8"
      },
      "execution_count": null,
      "outputs": [
        {
          "output_type": "stream",
          "name": "stdout",
          "text": [
            "PASSWORD: sookmyung123\n",
            "LOGIN\n"
          ]
        }
      ]
    },
    {
      "cell_type": "code",
      "source": [
        "if age <20:\n",
        "  print('20대 미만입니다.')\n",
        "elif age <= 23:\n",
        "  print('20대 초반입니다.')\n",
        "elif age <= 26:\n",
        "  print('20대 중반입니다.')\n",
        "elif age <=29:\n",
        "  print('20대 후반입니다.')\n",
        "else:\n",
        "  print('30대 이상입니다.')"
      ],
      "metadata": {
        "colab": {
          "base_uri": "https://localhost:8080/"
        },
        "id": "g9p24f8Bh7qr",
        "outputId": "ce0d2a99-b309-4672-e237-e1d3595dbb8c"
      },
      "execution_count": null,
      "outputs": [
        {
          "output_type": "stream",
          "name": "stdout",
          "text": [
            "30대 이상입니다.\n"
          ]
        }
      ]
    },
    {
      "cell_type": "code",
      "source": [
        "def add1(a, b):\n",
        "  return a+b\n",
        "\n",
        "def say1():\n",
        "  return \"Hi!\"\n",
        "\n",
        "def add2(a, b):\n",
        "  print(a + b)\n",
        "\n",
        "def say2():\n",
        "  print(\"Hi!\")\n",
        "\n",
        "n1 = 3\n",
        "n2 = 4\n",
        "result = add1(n1, n2)\n",
        "print(result)\n",
        "\n",
        "print()\n",
        "\n",
        "a = say1()\n",
        "print(a)\n",
        "\n",
        "print()\n",
        "\n",
        "add2(9, 10)\n",
        "\n",
        "print()\n",
        "\n",
        "say2()"
      ],
      "metadata": {
        "colab": {
          "base_uri": "https://localhost:8080/"
        },
        "id": "V2-JjaPykL_X",
        "outputId": "83c0dceb-e8eb-4797-825c-3f5c2a959dc3"
      },
      "execution_count": null,
      "outputs": [
        {
          "output_type": "stream",
          "name": "stdout",
          "text": [
            "7\n",
            "\n",
            "Hi!\n",
            "\n",
            "19\n",
            "\n",
            "Hi!\n"
          ]
        }
      ]
    },
    {
      "cell_type": "markdown",
      "source": [
        "# 미션 2\n",
        "#### 몬스터 10마리를 잡으면 LEVEL UP!하는 프로그램 작성하기\n",
        "\n",
        "* 잡은 몬스터 수를 세는 변수에 초기값으로 0을 저장해주세요.\n",
        "* 반복문을 사용해서 몬스터를 잡을 때마다 1을 더해주세요.\n",
        "* 잡은 몬스터 수가 1마리 ~ 10마리일 때까지 현재 몬스터 수를 출력하고\n",
        "* 10마리가 되면 LEVEL UP!을 출력해주세요.\n"
      ],
      "metadata": {
        "id": "2Yx_mmrpboIW"
      }
    },
    {
      "cell_type": "code",
      "source": [
        "kill_count = 0\n",
        "\n",
        "# 10번 반복하기\n",
        "\n",
        "while kill_count < 10:\n",
        "  killing = input(\"몬스터를 잡으시겠습니까? (Y/N) \")\n",
        "  if killing == \"Y\":\n",
        "    kill_count += 1\n",
        "    print(f\"현재 몬스터 수: {kill_count}\")\n",
        "  elif killing == \"N\":\n",
        "    kill_count -= 1\n",
        "    print(f\"현재 몬스터 수: {kill_count}\")\n",
        "  else:\n",
        "    print(\"잘못 입력하셨습니다.\")\n",
        "print(\"LEVEL UP!\")\n",
        "\n",
        "print()\n",
        "\n",
        "kill_count = 0\n",
        "while kill_count < 10:\n",
        "  killing = input(\"몬스터를 잡으시겠습니까? (Y/N) \")\n",
        "  if killing == \"Y\":\n",
        "    kill_count += 1\n",
        "    print(f\"현재 몬스터 수: {kill_count}\")\n",
        "  elif killing == \"N\":\n",
        "    if kill_count > 0:\n",
        "      kill_count -= 1\n",
        "    print(f\"현재 몬스터 수: {kill_count}\")\n",
        "  else:\n",
        "    print(\"잘못 입력하셨습니다.\")\n",
        "print(\"LEVEL UP!\")\n",
        "\n",
        "print()\n",
        "\n",
        "# 반복문 안에서는 kill_count에 1을 더하고 현재 몬스터 수를 출력한다.\n",
        "\n",
        "kill_count = 0\n",
        "\n",
        "for i in range(10):\n",
        "  print(\"몬스터를 더 잡아야 합니다.\")\n",
        "  kill_count += 1\n",
        "  print(f\"현재 몬스터 수: {kill_count}\")\n",
        "print(\"LEVEL UP!\")\n",
        "\n",
        "print()  \n",
        "\n",
        "for i in range(10):\n",
        "  print(\"몬스터를 더 잡아야 합니다.\")\n",
        "  print(f\"현재 몬스터 수: {i + 1}\")\n",
        "print(\"LEVEL UP!\")\n"
      ],
      "metadata": {
        "id": "u6SIOQdEbon0",
        "colab": {
          "base_uri": "https://localhost:8080/"
        },
        "outputId": "14ecd2aa-d85b-40ab-f413-26f7a9ebfedb"
      },
      "execution_count": null,
      "outputs": [
        {
          "output_type": "stream",
          "name": "stdout",
          "text": [
            "몬스터를 잡으시겠습니까? (Y/N) N\n",
            "현재 몬스터 수: -1\n",
            "몬스터를 잡으시겠습니까? (Y/N) N\n",
            "현재 몬스터 수: -2\n",
            "몬스터를 잡으시겠습니까? (Y/N) Y\n",
            "현재 몬스터 수: -1\n",
            "몬스터를 잡으시겠습니까? (Y/N) Y\n",
            "현재 몬스터 수: 0\n",
            "몬스터를 잡으시겠습니까? (Y/N) Y\n",
            "현재 몬스터 수: 1\n",
            "몬스터를 잡으시겠습니까? (Y/N) Y\n",
            "현재 몬스터 수: 2\n",
            "몬스터를 잡으시겠습니까? (Y/N) Y\n",
            "현재 몬스터 수: 3\n",
            "몬스터를 잡으시겠습니까? (Y/N) Y\n",
            "현재 몬스터 수: 4\n",
            "몬스터를 잡으시겠습니까? (Y/N) Y\n",
            "현재 몬스터 수: 5\n",
            "몬스터를 잡으시겠습니까? (Y/N) Y\n",
            "현재 몬스터 수: 6\n",
            "몬스터를 잡으시겠습니까? (Y/N) Y\n",
            "현재 몬스터 수: 7\n",
            "몬스터를 잡으시겠습니까? (Y/N) Y\n",
            "현재 몬스터 수: 8\n",
            "몬스터를 잡으시겠습니까? (Y/N) Y\n",
            "현재 몬스터 수: 9\n",
            "몬스터를 잡으시겠습니까? (Y/N) Y\n",
            "현재 몬스터 수: 10\n",
            "LEVEL UP!\n",
            "\n",
            "몬스터를 잡으시겠습니까? (Y/N) N\n",
            "현재 몬스터 수: 0\n",
            "몬스터를 잡으시겠습니까? (Y/N) N\n",
            "현재 몬스터 수: 0\n",
            "몬스터를 잡으시겠습니까? (Y/N) I\n",
            "잘못 입력하셨습니다.\n",
            "몬스터를 잡으시겠습니까? (Y/N) N\n",
            "현재 몬스터 수: 0\n",
            "몬스터를 잡으시겠습니까? (Y/N) Y\n",
            "현재 몬스터 수: 1\n",
            "몬스터를 잡으시겠습니까? (Y/N) N\n",
            "현재 몬스터 수: 0\n",
            "몬스터를 잡으시겠습니까? (Y/N) Y\n",
            "현재 몬스터 수: 1\n",
            "몬스터를 잡으시겠습니까? (Y/N) Y\n",
            "현재 몬스터 수: 2\n",
            "몬스터를 잡으시겠습니까? (Y/N) Y\n",
            "현재 몬스터 수: 3\n",
            "몬스터를 잡으시겠습니까? (Y/N) Y\n",
            "현재 몬스터 수: 4\n",
            "몬스터를 잡으시겠습니까? (Y/N) Y\n",
            "현재 몬스터 수: 5\n",
            "몬스터를 잡으시겠습니까? (Y/N) Y\n",
            "현재 몬스터 수: 6\n",
            "몬스터를 잡으시겠습니까? (Y/N) Y\n",
            "현재 몬스터 수: 7\n",
            "몬스터를 잡으시겠습니까? (Y/N) Y\n",
            "현재 몬스터 수: 8\n",
            "몬스터를 잡으시겠습니까? (Y/N) Y\n",
            "현재 몬스터 수: 9\n",
            "몬스터를 잡으시겠습니까? (Y/N) Y\n",
            "현재 몬스터 수: 10\n",
            "LEVEL UP!\n",
            "\n",
            "몬스터를 더 잡아야 합니다.\n",
            "현재 몬스터 수: 1\n",
            "몬스터를 더 잡아야 합니다.\n",
            "현재 몬스터 수: 2\n",
            "몬스터를 더 잡아야 합니다.\n",
            "현재 몬스터 수: 3\n",
            "몬스터를 더 잡아야 합니다.\n",
            "현재 몬스터 수: 4\n",
            "몬스터를 더 잡아야 합니다.\n",
            "현재 몬스터 수: 5\n",
            "몬스터를 더 잡아야 합니다.\n",
            "현재 몬스터 수: 6\n",
            "몬스터를 더 잡아야 합니다.\n",
            "현재 몬스터 수: 7\n",
            "몬스터를 더 잡아야 합니다.\n",
            "현재 몬스터 수: 8\n",
            "몬스터를 더 잡아야 합니다.\n",
            "현재 몬스터 수: 9\n",
            "몬스터를 더 잡아야 합니다.\n",
            "현재 몬스터 수: 10\n",
            "LEVEL UP!\n",
            "\n",
            "몬스터를 더 잡아야 합니다.\n",
            "현재 몬스터 수: 1\n",
            "몬스터를 더 잡아야 합니다.\n",
            "현재 몬스터 수: 2\n",
            "몬스터를 더 잡아야 합니다.\n",
            "현재 몬스터 수: 3\n",
            "몬스터를 더 잡아야 합니다.\n",
            "현재 몬스터 수: 4\n",
            "몬스터를 더 잡아야 합니다.\n",
            "현재 몬스터 수: 5\n",
            "몬스터를 더 잡아야 합니다.\n",
            "현재 몬스터 수: 6\n",
            "몬스터를 더 잡아야 합니다.\n",
            "현재 몬스터 수: 7\n",
            "몬스터를 더 잡아야 합니다.\n",
            "현재 몬스터 수: 8\n",
            "몬스터를 더 잡아야 합니다.\n",
            "현재 몬스터 수: 9\n",
            "몬스터를 더 잡아야 합니다.\n",
            "현재 몬스터 수: 10\n",
            "LEVEL UP!\n"
          ]
        }
      ]
    },
    {
      "cell_type": "markdown",
      "source": [
        "# 미션 3\n",
        "#### 카페 주문 프로그램 작성하기 (토요일 오전 미션)\n",
        "\n",
        "* 1번 메뉴는 아메리카노(4100원), 2번 메뉴는 카페라떼(4600원), 3번 메뉴는 바닐라라떼(5100원)입니다.\n",
        "* 주문하실 메뉴 번호(order)를 입력합니다.\n",
        "* 조건문을 이용해서 메뉴 번호(order)에 맞는 금액(price)이 계산되도록 식을 만들어주세요. (1을 입력하면 4100원, 2를 입력하면 4600원, 3을 입력하면 5100원)\n",
        "* 총 금액(total_price)을 구하는 식을 만들어주세요.\n",
        "* 투입한 금액(money)이 총 금액보다 크면 거스름돈(change)을 계산하고, 부족하면 주문을 취소합니다.\n",
        "* 메뉴 번호 4를 입력하면 주문이 취소되면서 반복문을 빠져나옵니다.\n",
        "\n"
      ],
      "metadata": {
        "id": "17AqYKjngEo3"
      }
    },
    {
      "cell_type": "code",
      "source": [
        "while True :\n",
        "  print(\"=\" * 45)\n",
        "  menu = \" 1. 아메리카노 : 4100원 \\n 2. 카페라떼 : 4600원 \\n 3. 바닐라라떼 : 5100원 \\n 4. 주문 종료\"\n",
        "  print(menu)\n",
        "  print(\"=\" * 45)\n",
        "\n",
        "  # 커피 종류를 입력받습니다. \n",
        "  order = input(\"원하는 메뉴의 번호를 입력하세요. >>> \")\n",
        " \n",
        "  if order == \"1\" or order == \"2\" or order == \"3\" :\n",
        "    # 입력한 커피 가격을 price 변수에 넣어줍니다. \n",
        "\n",
        "    if order == \"1\":\n",
        "      price = 4100\n",
        "    elif order == \"2\":\n",
        "      price = 4600\n",
        "    else:\n",
        "      price = 5100\n",
        "    \n",
        "    while True:\n",
        "      cups = input(\"몇 잔을 드릴까요? 잔 수 입력 >>> \")\n",
        "      try:\n",
        "        cups = int(cups)\n",
        "        noError = True\n",
        "      except ValueError:\n",
        "        noError = False\n",
        "      if noError:\n",
        "        if cups > 0:\n",
        "          # 총 금액을 계산하고 total_price 변수에 넣어줍니다.\n",
        "          total_price = price * cups\n",
        "          break\n",
        "        else:\n",
        "          print(\"1잔 이상 주문하셔야 합니다.\")\n",
        "      else:\n",
        "        print(\"정수로 입력해주세요.\")\n",
        "\n",
        "    while True:\n",
        "      money = input(f\"총 금액은 {total_price}원 입니다. 돈을 투입해주세요 >>> \")\n",
        "      try:\n",
        "        money = int(money)\n",
        "        noError = True\n",
        "      except ValueError:\n",
        "        noError = False\n",
        "      if noError:\n",
        "        # 총 금액보다 투입 금액이 큰 경우 거스름돈을 계산하고 출력합니다.\n",
        "        if money >= total_price:\n",
        "          change = money - total_price\n",
        "          print(f\"거스름돈은 {change}원 입니다.\")\n",
        "        # 총 금액보다 작은 금액을 입력한 경우 주문을 취소합니다.\n",
        "        else :\n",
        "          print(\"금액이 부족합니다. 주문이 취소되었습니다.\")\n",
        "        break\n",
        "      else:\n",
        "        print(\"정수로 입력해주세요.\")\n",
        "\n",
        "  elif order == \"4\" :\n",
        "    # 4를 입력하면 주문을 종료하고 반복문을 빠져나갑니다.\n",
        "    print(\"주문을 종료합니다.\")\n",
        "    # 반복문 빠져나가기\n",
        "    break\n",
        "\n",
        "  # 1,2,3,4가 아닌 다른 숫자를 입력한 경우 \"잘못된 주문입니다\"를 출력합니다.\n",
        "  else :\n",
        "      print(\"잘못된 주문입니다.\")"
      ],
      "metadata": {
        "id": "wRrKf3NJg_yy",
        "colab": {
          "base_uri": "https://localhost:8080/"
        },
        "outputId": "a9fe4a97-8bc6-4453-c9ce-005c1387afa2"
      },
      "execution_count": 9,
      "outputs": [
        {
          "output_type": "stream",
          "name": "stdout",
          "text": [
            "=============================================\n",
            " 1. 아메리카노 : 4100원 \n",
            " 2. 카페라떼 : 4600원 \n",
            " 3. 바닐라라떼 : 5100원 \n",
            " 4. 주문 종료\n",
            "=============================================\n",
            "원하는 메뉴의 번호를 입력하세요. 1\n",
            "몇 잔을 드릴까요? 잔 수 입력 >>> 3\n",
            "총 금액은 12300원 입니다. 돈을 투입해주세요 >>> a\n",
            "정수로 입력해주세요.\n",
            "총 금액은 12300원 입니다. 돈을 투입해주세요 >>> 20000\n",
            "거스름돈은 7700원 입니다.\n",
            "=============================================\n",
            " 1. 아메리카노 : 4100원 \n",
            " 2. 카페라떼 : 4600원 \n",
            " 3. 바닐라라떼 : 5100원 \n",
            " 4. 주문 종료\n",
            "=============================================\n",
            "원하는 메뉴의 번호를 입력하세요. 4\n",
            "주문을 종료합니다.\n"
          ]
        }
      ]
    },
    {
      "cell_type": "code",
      "source": [
        "while True :\n",
        "  print(\"\\n\")\n",
        "  print(\"=\" * 45)\n",
        "  # menu = \" 아메리카노 : 4100원 \\n 카페라떼 : 4600원 \\n 바닐라라떼 : 5100원 \\n 주문 종료\"\n",
        "  menu = {\"아메리카노\" : 4100, \"카페라떼\" : 4600, \"바닐라라떼\" : 5100}\n",
        "  print(\" 아메리카노 : 4,100원 \\n 카페라떼 : 4,600원 \\n 바닐라라떼 : 5,100원 \\n\")\n",
        "  print(\" 주문을 종료하려면 \\\"주문 종료\\\"라고 입력하세요.\")\n",
        "  print(\"=\" * 45)\n",
        "\n",
        "  # 커피 종류를 입력받습니다. \n",
        "  order = input(\"원하는 메뉴를 입력하세요. >>> \")\n",
        " \n",
        "  if order == \"아메리카노\" or order == \"카페라떼\" or order == \"바닐라라떼\" :\n",
        "    # 입력한 커피 가격을 price 변수에 넣어줍니다. \n",
        "    price = menu[order]\n",
        "    \n",
        "    while True:\n",
        "      cups = input(\"몇 잔을 드릴까요? 잔 수 입력 >>> \")\n",
        "      try:\n",
        "        cups = int(cups)\n",
        "        noError = True\n",
        "      except ValueError:\n",
        "        noError = False\n",
        "      if noError:\n",
        "        if cups > 0:\n",
        "          # 총 금액을 계산하고 total_price 변수에 넣어줍니다.\n",
        "          total_price = price * cups\n",
        "          break\n",
        "        else:\n",
        "          print(\"1잔 이상 주문하셔야 합니다.\")\n",
        "      else:\n",
        "        print(\"정수로 입력해주세요.\")\n",
        "\n",
        "    while True:\n",
        "      money = input(f\"총 금액은 {total_price}원 입니다. 돈을 투입해주세요 >>> \")\n",
        "      try:\n",
        "        money = int(money)\n",
        "        noError = True\n",
        "      except ValueError:\n",
        "        noError = False\n",
        "      if noError:\n",
        "        # 총 금액보다 투입 금액이 큰 경우 거스름돈을 계산하고 출력합니다.\n",
        "        if money >= total_price:\n",
        "          changeTotal = money - total_price\n",
        "          print(f\"거스름돈은 총 {changeTotal}원 입니다.\")\n",
        "          change1000, changeTotal = divmod(changeTotal, 1000)\n",
        "          change500, changeTotal = divmod(changeTotal, 500)\n",
        "          change100, changeTotal = divmod(changeTotal, 100)\n",
        "          if changeTotal > 0:\n",
        "            print(f\"1,000원권 {change1000}장, 500원권 {change500}개, 100원권 {change100}개, 나머지 {changeTotal}원으로 드립니다.\")\n",
        "          else:\n",
        "            print(f\"1,000원권 {change1000}장, 500원권 {change500}개, 100원권 {change100}개로 드립니다.\")\n",
        "        # 총 금액보다 작은 금액을 입력한 경우 주문을 취소합니다.\n",
        "        else :\n",
        "          print(\"금액이 부족합니다. 주문이 취소되었습니다.\")\n",
        "        break\n",
        "      else:\n",
        "        print(\"정수로 입력해주세요.\")\n",
        "\n",
        "  elif order == \"주문 종료\" :\n",
        "    # 4를 입력하면 주문을 종료하고 반복문을 빠져나갑니다.\n",
        "    print(\"주문을 종료합니다.\")\n",
        "    # 반복문 빠져나가기\n",
        "    break\n",
        "\n",
        "  # 1,2,3,4가 아닌 다른 숫자를 입력한 경우 \"잘못된 주문입니다\"를 출력합니다.\n",
        "  else :\n",
        "      print(\"잘못된 주문입니다.\")"
      ],
      "metadata": {
        "id": "YxENTYEoy0Cj",
        "colab": {
          "base_uri": "https://localhost:8080/"
        },
        "outputId": "30dacd32-121b-4c08-c895-8eab7ad917e7"
      },
      "execution_count": null,
      "outputs": [
        {
          "output_type": "stream",
          "name": "stdout",
          "text": [
            "\n",
            "\n",
            "=============================================\n",
            " 아메리카노 : 4,100원 \n",
            " 카페라떼 : 4,600원 \n",
            " 바닐라라떼 : 5,100원 \n",
            "\n",
            " 주문을 종료하려면 \"주문 종료\"라고 입력하세요.\n",
            "=============================================\n",
            "원하는 메뉴를 입력하세요. >>> 3\n",
            "잘못된 주문입니다.\n",
            "\n",
            "\n",
            "=============================================\n",
            " 아메리카노 : 4,100원 \n",
            " 카페라떼 : 4,600원 \n",
            " 바닐라라떼 : 5,100원 \n",
            "\n",
            " 주문을 종료하려면 \"주문 종료\"라고 입력하세요.\n",
            "=============================================\n",
            "원하는 메뉴를 입력하세요. >>> 아메리카노\n",
            "몇 잔을 드릴까요? 잔 수 입력 >>> -1\n",
            "1잔 이상 주문하셔야 합니다.\n",
            "몇 잔을 드릴까요? 잔 수 입력 >>> 2\n",
            "총 금액은 8200원 입니다. 돈을 투입해주세요 >>> 10010\n",
            "거스름돈은 총 1810원 입니다.\n",
            "1,000원권 1장, 500원권 1개, 100원권 3개, 나머지 10원으로 드립니다.\n",
            "\n",
            "\n",
            "=============================================\n",
            " 아메리카노 : 4,100원 \n",
            " 카페라떼 : 4,600원 \n",
            " 바닐라라떼 : 5,100원 \n",
            "\n",
            " 주문을 종료하려면 \"주문 종료\"라고 입력하세요.\n",
            "=============================================\n",
            "원하는 메뉴를 입력하세요. >>> 아메리카노\n",
            "몇 잔을 드릴까요? 잔 수 입력 >>> 2\n",
            "총 금액은 8200원 입니다. 돈을 투입해주세요 >>> 10000\n",
            "거스름돈은 총 1800원 입니다.\n",
            "1,000원권 1장, 500원권 1개, 100원권 3개로 드립니다.\n",
            "\n",
            "\n",
            "=============================================\n",
            " 아메리카노 : 4,100원 \n",
            " 카페라떼 : 4,600원 \n",
            " 바닐라라떼 : 5,100원 \n",
            "\n",
            " 주문을 종료하려면 \"주문 종료\"라고 입력하세요.\n",
            "=============================================\n"
          ]
        }
      ]
    },
    {
      "cell_type": "code",
      "source": [
        ""
      ],
      "metadata": {
        "id": "9QHf06JiqMhw"
      },
      "execution_count": null,
      "outputs": []
    }
  ]
}